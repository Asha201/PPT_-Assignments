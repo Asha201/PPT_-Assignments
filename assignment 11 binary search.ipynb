{
 "cells": [
  {
   "cell_type": "markdown",
   "id": "41e9e166",
   "metadata": {},
   "source": [
    "Question 1\n",
    "- Given a non-negative integer `x`, return *the square root of* `x` *rounded down to the nearest integer*. The returned integer should be **non-negative** as well.\n",
    "\n",
    "You **must not use** any built-in exponent function or operator.\n",
    "\n",
    "- For example, do not use `pow(x, 0.5)` in c++ or `x ** 0.5` in python.\n",
    "        \n",
    "    \n"
   ]
  },
  {
   "cell_type": "code",
   "execution_count": null,
   "id": "936297aa",
   "metadata": {},
   "outputs": [],
   "source": [
    "def sqrt(x):\n",
    "    # Base cases\n",
    "    if x == 0 or x ==1:\n",
    "        return x\n",
    "    \n",
    "    # Binary search\n",
    "    left = 1\n",
    "    right = x\n",
    "    \n",
    "    while left <=right:\n",
    "        mid = (left + right)//2\n",
    "        # Check if mid*mid equals x \n",
    "        if mid * mid == x:\n",
    "            return mid\n",
    "        # If mid*mid is less than x, search in the right half\n",
    "        elif mid * mid < x:\n",
    "            left = mid + 1\n",
    "            ans = mid\n",
    "        # If mid*mid is greater than x, search in the left half    \n",
    "        else:\n",
    "            right = mid - 1\n",
    "    return ans"
   ]
  },
  {
   "cell_type": "code",
   "execution_count": 2,
   "id": "0725dfa8",
   "metadata": {},
   "outputs": [
    {
     "data": {
      "text/plain": [
       "2"
      ]
     },
     "execution_count": 2,
     "metadata": {},
     "output_type": "execute_result"
    }
   ],
   "source": [
    "sqrt(8)"
   ]
  },
  {
   "cell_type": "code",
   "execution_count": 3,
   "id": "c9cb75b3",
   "metadata": {},
   "outputs": [
    {
     "data": {
      "text/plain": [
       "3"
      ]
     },
     "execution_count": 3,
     "metadata": {},
     "output_type": "execute_result"
    }
   ],
   "source": [
    "sqrt(9)"
   ]
  },
  {
   "cell_type": "code",
   "execution_count": 5,
   "id": "5426e59a",
   "metadata": {},
   "outputs": [
    {
     "data": {
      "text/plain": [
       "5"
      ]
     },
     "execution_count": 5,
     "metadata": {},
     "output_type": "execute_result"
    }
   ],
   "source": [
    "sqrt(25)"
   ]
  },
  {
   "cell_type": "markdown",
   "id": "e56619fa",
   "metadata": {},
   "source": [
    " Question 2\n",
    "- A peak element is an element that is strictly greater than its neighbors.\n",
    "\n",
    "Given a **0-indexed** integer array `nums`, find a peak element, and return its index. If the array contains multiple peaks, return the index to **any of the peaks**.\n",
    "\n",
    "You may imagine that `nums[-1] = nums[n] = -∞`. In other words, an element is always considered to be strictly greater than a neighbor that is outside the array.\n",
    "\n",
    "You must write an algorithm that runs in `O(log n)` time.\n",
    "\n"
   ]
  },
  {
   "cell_type": "code",
   "execution_count": 25,
   "id": "c7a48c84",
   "metadata": {},
   "outputs": [],
   "source": [
    "def findPeakElement(nums):\n",
    "    \n",
    "    #Initialize two pointers, left and right, with left = 0\n",
    "    #and right = len(nums) - 1\n",
    "    left, right = 0, len(nums) - 1\n",
    "    \n",
    "    # Calculate the middle index as mid = (left + right) // 2\n",
    "    while left < right:\n",
    "        mid = (left + right) // 2\n",
    "        \n",
    "    # If nums[mid] > nums[mid + 1], move right to mid \n",
    "    #since the peak must be in the left half\n",
    "        if nums[mid] > nums[mid + 1]:\n",
    "            right = mid\n",
    "            \n",
    "    # move left to mid + 1 since the peak must be in the right half     \n",
    "        else:\n",
    "            left = mid + 1\n",
    "\n",
    "    return left\n"
   ]
  },
  {
   "cell_type": "code",
   "execution_count": 26,
   "id": "1fe9a1c1",
   "metadata": {},
   "outputs": [
    {
     "data": {
      "text/plain": [
       "3"
      ]
     },
     "execution_count": 26,
     "metadata": {},
     "output_type": "execute_result"
    }
   ],
   "source": [
    "nums = [1,2,3,4,2]\n",
    "findPeakElement(nums)\n",
    "# 4 is peak element and its  index number 3."
   ]
  },
  {
   "cell_type": "code",
   "execution_count": 10,
   "id": "c7ddff4f",
   "metadata": {},
   "outputs": [
    {
     "data": {
      "text/plain": [
       "4"
      ]
     },
     "execution_count": 10,
     "metadata": {},
     "output_type": "execute_result"
    }
   ],
   "source": [
    "nums = [5,2,9,10,18,3]\n",
    "findPeakElement(nums)"
   ]
  },
  {
   "cell_type": "markdown",
   "id": "10cbfc19",
   "metadata": {},
   "source": [
    " Question 3\n",
    "- Given an array nums containing n distinct numbers in the range [0, n], return the only number in the range that is missing from the array."
   ]
  },
  {
   "cell_type": "code",
   "execution_count": 23,
   "id": "5e10b09e",
   "metadata": {},
   "outputs": [],
   "source": [
    "def findMissingNumber(nums):\n",
    " \n",
    "   # Initialize a variable total_sum to store the\n",
    "   #sum of consecutive integers from 0 to n.\n",
    "    n = len(nums)\n",
    "    total_sum = (n * (n + 1)) // 2\n",
    "    \n",
    "    # Iterate through each element num in nums and \n",
    "    #subtract it from total_sum.\n",
    "    for num in nums:\n",
    "        total_sum -= num\n",
    "        \n",
    "     # Return the value of total_sum, \n",
    "    #which will be the missing number.\n",
    "    return total_sum"
   ]
  },
  {
   "cell_type": "code",
   "execution_count": 24,
   "id": "1aca8b42",
   "metadata": {},
   "outputs": [
    {
     "data": {
      "text/plain": [
       "2"
      ]
     },
     "execution_count": 24,
     "metadata": {},
     "output_type": "execute_result"
    }
   ],
   "source": [
    "nums = [3,0,1]\n",
    "findMissingNumber(nums)"
   ]
  },
  {
   "cell_type": "markdown",
   "id": "d6413b5f",
   "metadata": {},
   "source": [
    "\n",
    "Question 4\n",
    "\n",
    "- Given an array of integers `nums` containing `n + 1` integers where each integer is in the range `[1, n]` inclusive.\n",
    "\n",
    "There is only **one repeated number** in `nums`, return *this repeated number*.\n",
    "\n",
    "You must solve the problem **without** modifying the array `nums` and uses only constant extra space.\n",
    "\n",
    "</aside>"
   ]
  },
  {
   "cell_type": "code",
   "execution_count": 1,
   "id": "6adb7787",
   "metadata": {},
   "outputs": [],
   "source": [
    "def findRepeatedNumber(nums):\n",
    "    slow = nums[0]\n",
    "    fast = nums[nums[0]]\n",
    "\n",
    "    # Find the meeting point of the two pointers\n",
    "    while slow != fast:\n",
    "        slow = nums[slow]\n",
    "        fast = nums[nums[fast]]\n",
    "\n",
    "    # Reset slow pointer to the start\n",
    "    slow = nums[0]\n",
    "\n",
    "    # Move both pointers one step at a time until they meet again\n",
    "    while slow != fast:\n",
    "        slow = nums[slow]\n",
    "        fast = nums[fast]\n",
    "\n",
    "    # Return the repeated number\n",
    "    return slow"
   ]
  },
  {
   "cell_type": "code",
   "execution_count": null,
   "id": "a15bc867",
   "metadata": {},
   "outputs": [],
   "source": [
    "nums=[1,2,3,4,2]\n",
    "findRepeatedNumber(nums)"
   ]
  },
  {
   "cell_type": "markdown",
   "id": "80841e7f",
   "metadata": {},
   "source": [
    "\n",
    "Question 5\n",
    "\n",
    "- Given two integer arrays `nums1` and `nums2`, return *an array of their intersection*. Each element in the result must be **unique** and you may return the result in **any order**.\n",
    "\n",
    "</aside>"
   ]
  },
  {
   "cell_type": "code",
   "execution_count": 1,
   "id": "c89b003b",
   "metadata": {},
   "outputs": [],
   "source": [
    "def intersection(nums1, nums2):\n",
    "    \n",
    "    # Create two sets, set1 and set2, to store the unique elements \n",
    "    # from nums1 and nums2, respectively.\n",
    "    set1 = set(nums1)\n",
    "    set2 = set(nums2)\n",
    "    \n",
    "    # Create an empty list, intersection \n",
    "    # to store the common elements between set1 and set2.\n",
    "    intersection = []\n",
    "    \n",
    "    #Iterate through each element num in set1.\n",
    "    #If num is present in set2, add it to the intersection list.\n",
    "    for num in set1:\n",
    "        if num in set2:\n",
    "            intersection.append(num)\n",
    "    \n",
    "    return intersection"
   ]
  },
  {
   "cell_type": "code",
   "execution_count": 2,
   "id": "99ac806e",
   "metadata": {},
   "outputs": [
    {
     "name": "stdout",
     "output_type": "stream",
     "text": [
      "[2]\n"
     ]
    }
   ],
   "source": [
    "nums1 = [1, 2, 2, 1]\n",
    "nums2 = [2, 2]\n",
    "result = intersection(nums1, nums2)\n",
    "print(result)"
   ]
  },
  {
   "cell_type": "code",
   "execution_count": 3,
   "id": "a661ae2b",
   "metadata": {},
   "outputs": [
    {
     "name": "stdout",
     "output_type": "stream",
     "text": [
      "[9, 4]\n"
     ]
    }
   ],
   "source": [
    "nums1 = [4,9,5]\n",
    "nums2 = [9,4,9,8,4]\n",
    "result = intersection(nums1, nums2)\n",
    "print(result)"
   ]
  },
  {
   "cell_type": "markdown",
   "id": "722c794f",
   "metadata": {},
   "source": [
    "Question 6\n",
    "- Suppose an array of length `n` sorted in ascending order is **rotated** between `1` and `n` times. For example, the array `nums = [0,1,2,4,5,6,7]` might become:\n",
    "\n",
    "- `[4,5,6,7,0,1,2]` if it was rotated `4` times.\n",
    "- `[0,1,2,4,5,6,7]` if it was rotated `7` times.\n",
    "\n",
    "Notice that **rotating** an array `[a[0], a[1], a[2], ..., a[n-1]]` 1 time results in the array `[a[n-1], a[0], a[1], a[2], ..., a[n-2]]`.\n",
    "\n",
    "Given the sorted rotated array `nums` of **unique** elements, return *the minimum element of this array*.\n",
    "\n",
    "You must write an algorithm that runs in `O(log n) time.`"
   ]
  },
  {
   "cell_type": "code",
   "execution_count": 5,
   "id": "516ac3ce",
   "metadata": {},
   "outputs": [],
   "source": [
    "def findMin(nums):\n",
    "    \n",
    "    # Initialize two pointers, left and right, to the start\n",
    "    # end of the array respectively.\n",
    "    left = 0\n",
    "    right = len(nums) - 1\n",
    "    \n",
    "    # Check if the element at index left is less than the \n",
    "   # element at index right. If true, it means the array is not rotated \n",
    "    # and the minimum element is at left. Return the element.\n",
    "    while left < right:\n",
    "        if nums[left] < nums[right]:\n",
    "            return nums[left]\n",
    "\n",
    "        mid = (left + right) // 2\n",
    "\n",
    "        if nums[mid] > nums[right]:\n",
    "            left = mid + 1\n",
    "        else:\n",
    "            right = mid\n",
    "\n",
    "    return nums[left]"
   ]
  },
  {
   "cell_type": "code",
   "execution_count": 6,
   "id": "8c5a6b75",
   "metadata": {},
   "outputs": [
    {
     "name": "stdout",
     "output_type": "stream",
     "text": [
      "0\n"
     ]
    }
   ],
   "source": [
    "nums = [4, 5, 6, 7, 0, 1, 2]\n",
    "min_element = findMin(nums)\n",
    "print(min_element)"
   ]
  },
  {
   "cell_type": "code",
   "execution_count": 8,
   "id": "4a965f9b",
   "metadata": {},
   "outputs": [
    {
     "name": "stdout",
     "output_type": "stream",
     "text": [
      "11\n"
     ]
    }
   ],
   "source": [
    "nums = [11,13,15,17]\n",
    "min_element = findMin(nums)\n",
    "print(min_element)"
   ]
  },
  {
   "cell_type": "markdown",
   "id": "5d0f5f46",
   "metadata": {},
   "source": [
    "Question 7\n",
    "- Given an array of integers `nums` sorted in non-decreasing order, find the starting and ending position of a given `target` value.\n",
    "\n",
    "If `target` is not found in the array, return `[-1, -1]`.\n",
    "\n",
    "You must write an algorithm with `O(log n)` runtime complexity."
   ]
  },
  {
   "cell_type": "code",
   "execution_count": 17,
   "id": "b6e02ca0",
   "metadata": {},
   "outputs": [],
   "source": [
    "def searchRange(nums, target):\n",
    "    # Initialize two variables, start and end, to store the starting \n",
    "    # and ending positions. Set them to -1 initially.\n",
    "    start = -1\n",
    "    end = -1\n",
    "\n",
    "    left = 0\n",
    "    right = len(nums) - 1\n",
    "\n",
    "    while left <= right:\n",
    "        mid = left + (right - left) // 2\n",
    "        \n",
    "        # If the element at index mid is equal to the target, \n",
    "        # start = mid and move right to the left half \n",
    "        if nums[mid] == target:\n",
    "            start = mid\n",
    "            right = mid - 1\n",
    "            \n",
    "        # If the element at index mid is greater than \n",
    "        # the target, move right to the left half    \n",
    "        elif nums[mid] > target:\n",
    "            right = mid - 1\n",
    "            \n",
    "        # If the element at index mid is less\n",
    "        # than the target, move left to the right half     \n",
    "        else:\n",
    "            left = mid + 1\n",
    "    \n",
    "    left = start\n",
    "    \n",
    "    # left is less than or equal to right\n",
    "    while left <= right:\n",
    "        mid = left + (right - left) // 2\n",
    "\n",
    "        if nums[mid] == target:\n",
    "            end = mid\n",
    "            left = mid + 1\n",
    "        elif nums[mid] > target:\n",
    "            right = mid - 1\n",
    "        else:\n",
    "            left = mid + 1\n",
    "\n",
    "    return [start, end]"
   ]
  },
  {
   "cell_type": "code",
   "execution_count": 19,
   "id": "9e7d610b",
   "metadata": {},
   "outputs": [
    {
     "name": "stdout",
     "output_type": "stream",
     "text": [
      "[-1, -1]\n"
     ]
    }
   ],
   "source": [
    "nums = [5, 7, 7, 8, 8, 10]\n",
    "target = 6\n",
    "positions = searchRange(nums, target)\n",
    "print(positions)"
   ]
  },
  {
   "cell_type": "markdown",
   "id": "3be10ef7",
   "metadata": {},
   "source": [
    "Question 8\n",
    "\n",
    "- Given two integer arrays `nums1` and `nums2`, return *an array of their intersection*. Each element in the result must appear as many times as it shows in both arrays and you may return the result in **any order**.\n",
    "\n"
   ]
  },
  {
   "cell_type": "code",
   "execution_count": 22,
   "id": "778668ab",
   "metadata": {},
   "outputs": [],
   "source": [
    "from collections import defaultdict\n",
    "\n",
    "def intersect(nums1, nums2):\n",
    "    freqMap = defaultdict(int)\n",
    "\n",
    "    # Count the frequency of elements in nums1\n",
    "    for num in nums1:\n",
    "        freqMap[num] += 1\n",
    "\n",
    "    intersection = []\n",
    "    \n",
    "    # Check for intersection in nums2 and decrement counts in freqMap\n",
    "    for num in nums2:\n",
    "        if freqMap[num] > 0:\n",
    "            intersection.append(num)\n",
    "            freqMap[num] -= 1\n",
    "\n",
    "    return intersection"
   ]
  },
  {
   "cell_type": "code",
   "execution_count": 23,
   "id": "ee1e8046",
   "metadata": {},
   "outputs": [
    {
     "name": "stdout",
     "output_type": "stream",
     "text": [
      "[2, 2]\n"
     ]
    }
   ],
   "source": [
    "nums1 = [1, 2, 2, 1]\n",
    "nums2 = [2, 2]\n",
    "result = intersect(nums1, nums2)\n",
    "print(result)"
   ]
  },
  {
   "cell_type": "code",
   "execution_count": null,
   "id": "54f2eccb",
   "metadata": {},
   "outputs": [],
   "source": []
  }
 ],
 "metadata": {
  "kernelspec": {
   "display_name": "Python 3 (ipykernel)",
   "language": "python",
   "name": "python3"
  },
  "language_info": {
   "codemirror_mode": {
    "name": "ipython",
    "version": 3
   },
   "file_extension": ".py",
   "mimetype": "text/x-python",
   "name": "python",
   "nbconvert_exporter": "python",
   "pygments_lexer": "ipython3",
   "version": "3.9.12"
  }
 },
 "nbformat": 4,
 "nbformat_minor": 5
}
