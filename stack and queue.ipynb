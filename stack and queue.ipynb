{
 "cells": [
  {
   "cell_type": "markdown",
   "id": "9f111111",
   "metadata": {},
   "source": [
    "Implement a stack using a list in Python. Include the necessary methods such as push, pop, and isEmpty.\n",
    "\n"
   ]
  },
  {
   "cell_type": "code",
   "execution_count": 1,
   "id": "1177964e",
   "metadata": {},
   "outputs": [],
   "source": [
    "class Stack:\n",
    "    def __init__(self):\n",
    "        self.stack = []\n",
    "\n",
    "    def push(self, item):\n",
    "        self.stack.append(item)\n",
    "\n",
    "    def pop(self):\n",
    "        if self.is_empty():\n",
    "            return None\n",
    "        return self.stack.pop()\n",
    "\n",
    "    def is_empty(self):\n",
    "        return len(self.stack) == 0\n"
   ]
  },
  {
   "cell_type": "code",
   "execution_count": 2,
   "id": "943cf2c5",
   "metadata": {},
   "outputs": [
    {
     "name": "stdout",
     "output_type": "stream",
     "text": [
      "False\n",
      "30\n",
      "20\n",
      "False\n",
      "10\n",
      "True\n",
      "None\n"
     ]
    }
   ],
   "source": [
    "# Create a new stack\n",
    "my_stack = Stack()\n",
    "\n",
    "# Push some items onto the stack\n",
    "my_stack.push(10)\n",
    "my_stack.push(20)\n",
    "my_stack.push(30)\n",
    "\n",
    "# Check if the stack is empty\n",
    "print(my_stack.is_empty())  # Output: False\n",
    "\n",
    "# Pop an item from the stack\n",
    "popped_item = my_stack.pop()\n",
    "print(popped_item)  # Output: 30\n",
    "\n",
    "# Pop another item from the stack\n",
    "popped_item = my_stack.pop()\n",
    "print(popped_item)  # Output: 20\n",
    "\n",
    "# Check if the stack is empty again\n",
    "print(my_stack.is_empty())  \n",
    "\n",
    "# Pop the last item from the stack\n",
    "popped_item = my_stack.pop()\n",
    "print(popped_item)  \n",
    "\n",
    "# Check if the stack is empty one more time\n",
    "print(my_stack.is_empty())  \n",
    "\n",
    "# Pop an item from an empty stack\n",
    "popped_item = my_stack.pop()\n",
    "print(popped_item)  \n"
   ]
  },
  {
   "cell_type": "markdown",
   "id": "9033c99e",
   "metadata": {},
   "source": [
    "Implement a queue using a list in Python. Include the necessary methods such as enqueue, dequeue, and isEmpty."
   ]
  },
  {
   "cell_type": "code",
   "execution_count": 3,
   "id": "99dc02c9",
   "metadata": {},
   "outputs": [],
   "source": [
    "class Queue:\n",
    "    def __init__(self):\n",
    "        self.items = []\n",
    "\n",
    "    def enqueue(self, item):\n",
    "        self.items.append(item)\n",
    "\n",
    "    def dequeue(self):\n",
    "        if not self.is_empty():\n",
    "            return self.items.pop(0)\n",
    "        else:\n",
    "            raise IndexError(\"Queue is empty.\")\n",
    "\n",
    "    def is_empty(self):\n",
    "        return len(self.items) == 0\n",
    "\n",
    "    def size(self):\n",
    "        return len(self.items)\n"
   ]
  },
  {
   "cell_type": "code",
   "execution_count": 4,
   "id": "6e113eb5",
   "metadata": {},
   "outputs": [
    {
     "name": "stdout",
     "output_type": "stream",
     "text": [
      "False\n",
      "3\n",
      "10\n",
      "2\n"
     ]
    }
   ],
   "source": [
    "# Create a new queue\n",
    "my_queue = Queue()\n",
    "\n",
    "# Add elements to the queue\n",
    "my_queue.enqueue(10)\n",
    "my_queue.enqueue(20)\n",
    "my_queue.enqueue(30)\n",
    "\n",
    "# Check if the queue is empty\n",
    "print(my_queue.is_empty())  \n",
    "# Get the size of the queue\n",
    "print(my_queue.size())  \n",
    "\n",
    "# Remove and return an item from the queue\n",
    "print(my_queue.dequeue())  \n",
    "\n",
    "# Get the size of the queue after dequeue\n",
    "print(my_queue.size())  \n"
   ]
  },
  {
   "cell_type": "code",
   "execution_count": null,
   "id": "63d460f6",
   "metadata": {},
   "outputs": [],
   "source": []
  }
 ],
 "metadata": {
  "kernelspec": {
   "display_name": "Python 3 (ipykernel)",
   "language": "python",
   "name": "python3"
  },
  "language_info": {
   "codemirror_mode": {
    "name": "ipython",
    "version": 3
   },
   "file_extension": ".py",
   "mimetype": "text/x-python",
   "name": "python",
   "nbconvert_exporter": "python",
   "pygments_lexer": "ipython3",
   "version": "3.9.12"
  }
 },
 "nbformat": 4,
 "nbformat_minor": 5
}
